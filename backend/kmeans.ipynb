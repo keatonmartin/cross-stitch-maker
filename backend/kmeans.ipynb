{
 "cells": [
  {
   "attachments": {},
   "cell_type": "markdown",
   "metadata": {},
   "source": [
    "#### This notebook demonstrates what runs on the backend. "
   ]
  },
  {
   "attachments": {},
   "cell_type": "markdown",
   "metadata": {},
   "source": [
    "NOTE--color quantization performed according to scikit-learn docs: https://scikit-learn.org/stable/auto_examples/cluster/plot_color_quantization.html#sphx-glr-auto-examples-cluster-plot-color-quantization-py"
   ]
  },
  {
   "attachments": {},
   "cell_type": "markdown",
   "metadata": {},
   "source": [
    "#### Read image to a numpy array\n",
    "We use PIL, the Python Imaging Library, in order to read the image from either a filepath (or from a request in the backend)"
   ]
  },
  {
   "cell_type": "code",
   "execution_count": 2,
   "metadata": {},
   "outputs": [],
   "source": [
    "from PIL import Image\n",
    "import numpy as np\n",
    "import matplotlib.pyplot as plt\n",
    "from sklearn.cluster import MiniBatchKMeans\n",
    "import pandas as pd\n",
    "\n",
    "def loadImage(fname: str, size: int) -> np.ndarray:\n",
    "    # This function accepts a filename and a size, returning a NumPy array of shape (W, H, 3)\n",
    "    # containing the RGB value for each pixel\n",
    "    im = Image.open(fname) # create PIL image\n",
    "    im.thumbnail([size,size], Image.LANCZOS) # resize\n",
    "    return np.asarray(im) # read into numpy array and return\n",
    "\n",
    "imageArray = loadImage(\"images/Bird.jpg\", 40)\n"
   ]
  },
  {
   "attachments": {},
   "cell_type": "markdown",
   "metadata": {},
   "source": [
    "#### Train image on Mini-batch K-means\n",
    "\n",
    "We use mini batch K-means as it's faster and we're working with relatively small amounts of data. This will ensure the model runs quicker on the backend and serve a result to the user quicker."
   ]
  },
  {
   "cell_type": "code",
   "execution_count": 3,
   "metadata": {},
   "outputs": [],
   "source": [
    "def train(data: np.ndarray, w: int, h: int, k: int):\n",
    "    # accepts image array returned by loadImage, width and height of image, and k--the number of clusters\n",
    "    # returns the codebook for the model and a 1d array of labels (indices into the codebook for each pixel)\n",
    "    flattened = np.reshape(data, (w*h, 3))\n",
    "    kmeans = MiniBatchKMeans(n_clusters = k, n_init = 'auto', random_state = 0)\n",
    "    kmeans.fit(flattened)\n",
    "    return [kmeans.cluster_centers_, kmeans.predict(flattened)]\n",
    "\n",
    "w, h, d = imageArray.shape # get width and height of image\n",
    "\n",
    "palette, labels = train(imageArray, w, h, 5) "
   ]
  },
  {
   "attachments": {},
   "cell_type": "markdown",
   "metadata": {},
   "source": [
    "#### Image reconstruction"
   ]
  },
  {
   "cell_type": "code",
   "execution_count": 5,
   "metadata": {},
   "outputs": [],
   "source": [
    "def convertPaletteToDMC(palette, dmc_url):\n",
    "    \"\"\"\n",
    "    ARGS:\n",
    "    palette: array-like of cluster centers\n",
    "    dmc_url: url containing dataset of floss colors\n",
    "    PURPOSE:\n",
    "    This function accepts a palette (codebook) and converts it into \n",
    "    RGB colors that represent DMC floss.\n",
    "    It returns a list of two items, the first is a typical codebook\n",
    "    The second is a list consisting of pairs of RGB colors and DMC ids, used for the legend\n",
    "    \"\"\"\n",
    "    dmc_df = pd.read_csv(dmc_url, header = None)\n",
    "    dmc_colors = [resolvePixel(pix, dmc_df) for pix in palette]\n",
    "    rgb = [x[0] for x in dmc_colors]\n",
    "    return [np.asarray(rgb), dmc_colors]\n",
    "    \n",
    "def resolvePixel(pixel, df):\n",
    "    \"\"\"\n",
    "    ARGS:\n",
    "    pixel: array of length 3 containing rgb values for a pixel you want to map to a DMC color\n",
    "    df: pandas DataFrame containing DMC floss and their RGB values. expects columns 2-4 to be RGB, last col to be color description\n",
    "    PURPOSE:\n",
    "    Computes which dmc color is the closest in terms of euclidean distance (plot rgb values on 3d grid, pick the closest)\n",
    "    \"\"\"\n",
    "    bestDist = 99999 # initialize distance to some large number\n",
    "    bestColor = -1   # initialize color to some dummy value\n",
    "    bestID = -1\n",
    "    for color in df.iterrows():\n",
    "        dist = np.sqrt(np.sum((pixel-color[1][1:-1])**2)) # compute euclidean distance between DMC color and pixel\n",
    "        if dist < bestDist: # if it does better, update\n",
    "            bestDist = dist\n",
    "            bestColor = color[1][1:-1]\n",
    "            bestID = color[1][0]\n",
    "    return [np.asarray(bestColor), bestID] # rgb and dmc id\n",
    "\n",
    "def gen_image(palette, labels, w, h):\n",
    "    return palette[labels].reshape(w, h, -1) # -1 means infer third dimension (should be 3)\n",
    "\n",
    "\n",
    "palette, colors = convertPaletteToDMC(palette, \"dmc.csv\")\n",
    "colors = [[x[0] / 255, x[1]] for x in colors]\n",
    "\n",
    "finalImageArray = gen_image(palette, labels, w, h).astype(np.uint8) # convert floats to uint8 for PIL\n",
    "finalImage = Image.fromarray(finalImageArray) # create PIL image from output array\n",
    "                                    "
   ]
  },
  {
   "attachments": {},
   "cell_type": "markdown",
   "metadata": {},
   "source": [
    "#### Generate pattern pdf"
   ]
  },
  {
   "cell_type": "code",
   "execution_count": 6,
   "metadata": {},
   "outputs": [
    {
     "data": {
      "image/png": "[encoded data removed]",
      "text/plain": [
       "<Figure size 1850x1050 with 2 Axes>"
      ]
     },
     "metadata": {},
     "output_type": "display_data"
    }
   ],
   "source": [
    "from matplotlib.patches import Rectangle\n",
    "\n",
    "fig, (imAxis, colorAxis) = plt.subplots(2, 1, height_ratios=[4,1]) # create figure\n",
    "\n",
    "imAxis.imshow(finalImage, extent=[0, finalImage.width, 0, finalImage.height], snap=False) # add image to subplot\n",
    "imAxis.set_xticks([x for x in range(finalImage.width)]) # set ticks at one pixel intervals\n",
    "imAxis.set_yticks([y for y in range(finalImage.height)]) \n",
    "imAxis.grid(color='black', linestyle='-', linewidth=0.2, snap=False) # add grid\n",
    "\n",
    "imAxis.set_xticklabels([]) # remove tick labels\n",
    "imAxis.set_yticklabels([])\n",
    "imAxis.tick_params(axis='both', which='both', length=0) # remove ticks\n",
    "\n",
    "# define the position and size of the colorbar\n",
    "bar_height = 0.2\n",
    "bar_left = 0.05\n",
    "bar_bottom = 0.7\n",
    "row_size = 4\n",
    "\n",
    "# create a rectangle for each color and add it to the plot\n",
    "for i, (rgb, name) in enumerate(colors):\n",
    "    row = i // row_size\n",
    "    column = i % row_size\n",
    "    rect = Rectangle((bar_left + column*bar_height, bar_bottom - row*bar_height), bar_height, bar_height, color=rgb)\n",
    "    colorAxis.add_patch(rect)\n",
    "    colorAxis.text(bar_left + column*bar_height + bar_height/2, bar_bottom + bar_height/2 - row*bar_height, name, ha='center', va='center')\n",
    "\n",
    "# hide the axis and show the plot\n",
    "colorAxis.set_axis_off()\n",
    "\n",
    "fig.set_size_inches(18.5, 10.5)\n",
    "\n",
    "fig.savefig(\"output.pdf\")"
   ]
  },
  {
   "cell_type": "code",
   "execution_count": null,
   "metadata": {},
   "outputs": [],
   "source": []
  }
 ],
 "metadata": {
  "kernelspec": {
   "display_name": "Python 3",
   "language": "python",
   "name": "python3"
  },
  "language_info": {
   "codemirror_mode": {
    "name": "ipython",
    "version": 3
   },
   "file_extension": ".py",
   "mimetype": "text/x-python",
   "name": "python",
   "nbconvert_exporter": "python",
   "pygments_lexer": "ipython3",
   "version": "3.10.4"
  },
  "orig_nbformat": 4,
  "vscode": {
   "interpreter": {
    "hash": "369f2c481f4da34e4445cda3fffd2e751bd1c4d706f27375911949ba6bb62e1c"
   }
  }
 },
 "nbformat": 4,
 "nbformat_minor": 2
}
